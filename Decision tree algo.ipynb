{
 "cells": [
  {
   "cell_type": "code",
   "execution_count": 1,
   "metadata": {},
   "outputs": [
    {
     "name": "stdout",
     "output_type": "stream",
     "text": [
      "[2 1 0 0 2 0 2 0 1 1 2 2 2 2 2]\n",
      "[1 1 0 0 2 0 1 0 1 1 2 2 2 1 1]\n",
      "0.7333333333333333\n"
     ]
    }
   ],
   "source": [
    "from sklearn.datasets import load_iris\n",
    "from sklearn import tree\n",
    "from sklearn.model_selection import train_test_split\n",
    "from sklearn.metrics import accuracy_score\n",
    "#loading iris data\n",
    "iris=load_iris()\n",
    "#now splitting\n",
    "train_iris,test_iris,train_target,test_target=train_test_split(iris.data,iris.target,test_size=0.1)\n",
    "#calling desicion tree classifier\n",
    "clf=tree.DecisionTreeClassifier()\n",
    "#now training data\n",
    "trained=clf.fit(train_iris,train_target)\n",
    "#test with test_iris\n",
    "output=trained.predict(test_iris)\n",
    "print(output)\n",
    "#actual output\n",
    "print(test_target)\n",
    "#calculating accuracy score\n",
    "pct=accuracy_score(test_target,output)\n",
    "print(pct)\n",
    "#  exporting  graph  for decisionTree\n",
    "tree.export_graphviz(clf, out_file='tree.dot', max_depth=7, feature_names=iris.feature_names, class_names=iris.target_names, filled=True,rounded=True)\n",
    "\n"
   ]
  },
  {
   "cell_type": "code",
   "execution_count": null,
   "metadata": {},
   "outputs": [],
   "source": []
  }
 ],
 "metadata": {
  "kernelspec": {
   "display_name": "Python 3",
   "language": "python",
   "name": "python3"
  },
  "language_info": {
   "codemirror_mode": {
    "name": "ipython",
    "version": 3
   },
   "file_extension": ".py",
   "mimetype": "text/x-python",
   "name": "python",
   "nbconvert_exporter": "python",
   "pygments_lexer": "ipython3",
   "version": "3.5.2"
  }
 },
 "nbformat": 4,
 "nbformat_minor": 2
}
